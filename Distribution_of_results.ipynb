{
 "cells": [
  {
   "cell_type": "code",
   "execution_count": 3,
   "id": "22f017be-57b3-4ce0-998d-3dda4a7578a6",
   "metadata": {},
   "outputs": [],
   "source": [
    "import pandas as pd\n",
    "import numpy as np \n",
    "import matplotlib.pyplot as plt\n",
    "import seaborn as sns"
   ]
  },
  {
   "cell_type": "code",
   "execution_count": 2,
   "id": "d21d1997-7e30-4a12-9003-ccf4a4c8522a",
   "metadata": {},
   "outputs": [
    {
     "data": {
      "application/javascript": [
       "\n",
       "        if (window._pyforest_update_imports_cell) { window._pyforest_update_imports_cell('import pandas as pd'); }\n",
       "    "
      ],
      "text/plain": [
       "<IPython.core.display.Javascript object>"
      ]
     },
     "metadata": {},
     "output_type": "display_data"
    }
   ],
   "source": [
    "url = 'https://raw.githubusercontent.com/jfjelstul/worldcup/master/data-csv/matches.csv'\n",
    "data = pd.read_csv(url)"
   ]
  },
  {
   "cell_type": "code",
   "execution_count": 30,
   "id": "022361dd-8484-4d24-a4d8-03417b4f932f",
   "metadata": {},
   "outputs": [
    {
     "name": "stdout",
     "output_type": "stream",
     "text": [
      "<class 'pandas.core.frame.DataFrame'>\n",
      "RangeIndex: 900 entries, 0 to 899\n",
      "Data columns (total 37 columns):\n",
      " #   Column                     Non-Null Count  Dtype \n",
      "---  ------                     --------------  ----- \n",
      " 0   key_id                     900 non-null    int64 \n",
      " 1   tournament_id              900 non-null    object\n",
      " 2   tournament_name            900 non-null    object\n",
      " 3   match_id                   900 non-null    object\n",
      " 4   match_name                 900 non-null    object\n",
      " 5   stage_name                 900 non-null    object\n",
      " 6   group_name                 900 non-null    object\n",
      " 7   group_stage                900 non-null    int64 \n",
      " 8   knockout_stage             900 non-null    int64 \n",
      " 9   replayed                   900 non-null    int64 \n",
      " 10  replay                     900 non-null    int64 \n",
      " 11  match_date                 900 non-null    object\n",
      " 12  match_time                 900 non-null    object\n",
      " 13  stadium_id                 900 non-null    object\n",
      " 14  stadium_name               900 non-null    object\n",
      " 15  city_name                  900 non-null    object\n",
      " 16  country_name               900 non-null    object\n",
      " 17  home_team_id               900 non-null    object\n",
      " 18  home_team_name             900 non-null    object\n",
      " 19  home_team_code             900 non-null    object\n",
      " 20  away_team_id               900 non-null    object\n",
      " 21  away_team_name             900 non-null    object\n",
      " 22  away_team_code             900 non-null    object\n",
      " 23  score                      900 non-null    object\n",
      " 24  home_team_score            900 non-null    int64 \n",
      " 25  away_team_score            900 non-null    int64 \n",
      " 26  home_team_score_margin     900 non-null    int64 \n",
      " 27  away_team_score_margin     900 non-null    int64 \n",
      " 28  extra_time                 900 non-null    int64 \n",
      " 29  penalty_shootout           900 non-null    int64 \n",
      " 30  score_penalties            900 non-null    object\n",
      " 31  home_team_score_penalties  900 non-null    int64 \n",
      " 32  away_team_score_penalties  900 non-null    int64 \n",
      " 33  result                     900 non-null    object\n",
      " 34  home_team_win              900 non-null    int64 \n",
      " 35  away_team_win              900 non-null    int64 \n",
      " 36  draw                       900 non-null    int64 \n",
      "dtypes: int64(16), object(21)\n",
      "memory usage: 260.3+ KB\n"
     ]
    }
   ],
   "source": [
    "data.info()"
   ]
  },
  {
   "cell_type": "code",
   "execution_count": 22,
   "id": "5e9f9c78-988a-46f1-8657-e6bee399ea29",
   "metadata": {},
   "outputs": [
    {
     "data": {
      "text/plain": [
       "Index(['key_id', 'goal_id', 'tournament_id', 'tournament_name', 'match_id',\n",
       "       'match_name', 'match_date', 'stage_name', 'group_name', 'team_id',\n",
       "       'team_name', 'team_code', 'home_team', 'away_team', 'player_id',\n",
       "       'family_name', 'given_name', 'shirt_number', 'player_team_id',\n",
       "       'player_team_name', 'player_team_code', 'minute_label',\n",
       "       'minute_regulation', 'minute_stoppage', 'match_period', 'own_goal',\n",
       "       'penalty'],\n",
       "      dtype='object')"
      ]
     },
     "execution_count": 22,
     "metadata": {},
     "output_type": "execute_result"
    }
   ],
   "source": [
    "data.columns"
   ]
  },
  {
   "cell_type": "code",
   "execution_count": 31,
   "id": "341dc385-0e26-4e35-9648-52cdf5829f63",
   "metadata": {},
   "outputs": [
    {
     "data": {
      "text/plain": [
       "key_id                       0\n",
       "tournament_id                0\n",
       "tournament_name              0\n",
       "match_id                     0\n",
       "match_name                   0\n",
       "stage_name                   0\n",
       "group_name                   0\n",
       "group_stage                  0\n",
       "knockout_stage               0\n",
       "replayed                     0\n",
       "replay                       0\n",
       "match_date                   0\n",
       "match_time                   0\n",
       "stadium_id                   0\n",
       "stadium_name                 0\n",
       "city_name                    0\n",
       "country_name                 0\n",
       "home_team_id                 0\n",
       "home_team_name               0\n",
       "home_team_code               0\n",
       "away_team_id                 0\n",
       "away_team_name               0\n",
       "away_team_code               0\n",
       "score                        0\n",
       "home_team_score              0\n",
       "away_team_score              0\n",
       "home_team_score_margin       0\n",
       "away_team_score_margin       0\n",
       "extra_time                   0\n",
       "penalty_shootout             0\n",
       "score_penalties              0\n",
       "home_team_score_penalties    0\n",
       "away_team_score_penalties    0\n",
       "result                       0\n",
       "home_team_win                0\n",
       "away_team_win                0\n",
       "draw                         0\n",
       "dtype: int64"
      ]
     },
     "execution_count": 31,
     "metadata": {},
     "output_type": "execute_result"
    }
   ],
   "source": [
    "data.isnull().sum()"
   ]
  },
  {
   "cell_type": "code",
   "execution_count": 10,
   "id": "2228dcfc-674d-4f74-a1df-1165b8ff37af",
   "metadata": {},
   "outputs": [
    {
     "data": {
      "text/plain": [
       "900"
      ]
     },
     "execution_count": 10,
     "metadata": {},
     "output_type": "execute_result"
    }
   ],
   "source": [
    "data['score'].value_counts().sum()"
   ]
  },
  {
   "cell_type": "code",
   "execution_count": 11,
   "id": "d72ae32a-081f-4afb-a1b4-32836421fd89",
   "metadata": {},
   "outputs": [
    {
     "data": {
      "text/plain": [
       "1–0     104\n",
       "2–1     101\n",
       "1–1      87\n",
       "0–0      71\n",
       "0–1      67\n",
       "2–0      66\n",
       "3–1      50\n",
       "1–2      40\n",
       "3–0      34\n",
       "2–2      34\n",
       "0–2      33\n",
       "3–2      30\n",
       "4–1      22\n",
       "0–3      20\n",
       "4–0      20\n",
       "1–3      15\n",
       "4–2      14\n",
       "2–3      10\n",
       "6–1      10\n",
       "5–2       7\n",
       "5–0       7\n",
       "1–4       6\n",
       "6–0       5\n",
       "3–3       5\n",
       "1–5       4\n",
       "0–4       4\n",
       "7–0       3\n",
       "5–1       3\n",
       "8–0       3\n",
       "2–5       2\n",
       "6–3       2\n",
       "2–4       2\n",
       "4–3       2\n",
       "4–4       2\n",
       "9–0       2\n",
       "7–1       2\n",
       "6–5       1\n",
       "3–4       1\n",
       "10–1      1\n",
       "7–5       1\n",
       "7–3       1\n",
       "0–7       1\n",
       "8–3       1\n",
       "1-0       1\n",
       "5–3       1\n",
       "7–2       1\n",
       "1–7       1\n",
       "Name: score, dtype: int64"
      ]
     },
     "execution_count": 11,
     "metadata": {},
     "output_type": "execute_result"
    }
   ],
   "source": [
    "data['score'].value_counts()"
   ]
  },
  {
   "cell_type": "code",
   "execution_count": 52,
   "id": "6b9e973c-a9d5-4caf-baee-95a1337cff0e",
   "metadata": {},
   "outputs": [
    {
     "data": {
      "text/plain": [
       "1–0     0.115556\n",
       "2–1     0.112222\n",
       "1–1     0.096667\n",
       "0–0     0.078889\n",
       "0–1     0.074444\n",
       "2–0     0.073333\n",
       "3–1     0.055556\n",
       "1–2     0.044444\n",
       "3–0     0.037778\n",
       "2–2     0.037778\n",
       "0–2     0.036667\n",
       "3–2     0.033333\n",
       "4–1     0.024444\n",
       "0–3     0.022222\n",
       "4–0     0.022222\n",
       "1–3     0.016667\n",
       "4–2     0.015556\n",
       "2–3     0.011111\n",
       "6–1     0.011111\n",
       "5–2     0.007778\n",
       "5–0     0.007778\n",
       "1–4     0.006667\n",
       "6–0     0.005556\n",
       "3–3     0.005556\n",
       "1–5     0.004444\n",
       "0–4     0.004444\n",
       "7–0     0.003333\n",
       "5–1     0.003333\n",
       "8–0     0.003333\n",
       "2–5     0.002222\n",
       "6–3     0.002222\n",
       "2–4     0.002222\n",
       "4–3     0.002222\n",
       "4–4     0.002222\n",
       "9–0     0.002222\n",
       "7–1     0.002222\n",
       "6–5     0.001111\n",
       "3–4     0.001111\n",
       "10–1    0.001111\n",
       "7–5     0.001111\n",
       "7–3     0.001111\n",
       "0–7     0.001111\n",
       "8–3     0.001111\n",
       "1-0     0.001111\n",
       "5–3     0.001111\n",
       "7–2     0.001111\n",
       "1–7     0.001111\n",
       "Name: score, dtype: float64"
      ]
     },
     "execution_count": 52,
     "metadata": {},
     "output_type": "execute_result"
    }
   ],
   "source": [
    "pre_num = data.score.value_counts() / len(data)\n",
    "pre_num"
   ]
  },
  {
   "cell_type": "code",
   "execution_count": 40,
   "id": "be661f2e-17bf-4acc-92b1-0ac491564d1a",
   "metadata": {},
   "outputs": [
    {
     "data": {
      "text/plain": [
       "<AxesSubplot:xlabel='score', ylabel='count'>"
      ]
     },
     "execution_count": 40,
     "metadata": {},
     "output_type": "execute_result"
    },
    {
     "data": {
      "image/png": "[encoded data removed]",
      "text/plain": [
       "<Figure size 2000x500 with 1 Axes>"
      ]
     },
     "metadata": {},
     "output_type": "display_data"
    }
   ],
   "source": [
    "fig, axes = plt.subplots(figsize=(20,5))\n",
    "sns.countplot(x='score', data=data)"
   ]
  },
  {
   "cell_type": "code",
   "execution_count": 44,
   "id": "fba5247e-3390-457b-8e23-819026628eba",
   "metadata": {},
   "outputs": [
    {
     "data": {
      "text/plain": [
       "<AxesSubplot:xlabel='score', ylabel='Count'>"
      ]
     },
     "execution_count": 44,
     "metadata": {},
     "output_type": "execute_result"
    },
    {
     "data": {
      "image/png": "[encoded data removed]",
      "text/plain": [
       "<Figure size 2000x500 with 1 Axes>"
      ]
     },
     "metadata": {},
     "output_type": "display_data"
    }
   ],
   "source": [
    "fig, axes = plt.subplots(figsize=(20,5))\n",
    "sns.histplot(x='score', data=data)"
   ]
  },
  {
   "cell_type": "code",
   "execution_count": null,
   "id": "6d2e72c5-9671-445f-8d25-b30e44a75e75",
   "metadata": {},
   "outputs": [],
   "source": []
  }
 ],
 "metadata": {
  "kernelspec": {
   "display_name": "Python 3 (ipykernel)",
   "language": "python",
   "name": "python3"
  },
  "language_info": {
   "codemirror_mode": {
    "name": "ipython",
    "version": 3
   },
   "file_extension": ".py",
   "mimetype": "text/x-python",
   "name": "python",
   "nbconvert_exporter": "python",
   "pygments_lexer": "ipython3",
   "version": "3.10.6"
  }
 },
 "nbformat": 4,
 "nbformat_minor": 5
}
